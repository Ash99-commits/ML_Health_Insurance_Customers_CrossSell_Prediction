{
  "nbformat": 4,
  "nbformat_minor": 0,
  "metadata": {
    "colab": {
      "provenance": [],
      "authorship_tag": "ABX9TyPcmD3voKlUzptdaYxKpGBX",
      "include_colab_link": true
    },
    "kernelspec": {
      "name": "python3",
      "display_name": "Python 3"
    },
    "language_info": {
      "name": "python"
    }
  },
  "cells": [
    {
      "cell_type": "markdown",
      "metadata": {
        "id": "view-in-github",
        "colab_type": "text"
      },
      "source": [
        "<a href=\"https://colab.research.google.com/github/Ash99-commits/ML_Health_Insurance_Customers_CrossSell_Prediction/blob/main/Health2Vehicle_CrossSell_Insurance_Prediction_by_Ashwani_Kumar_Patra.ipynb\" target=\"_parent\"><img src=\"https://colab.research.google.com/assets/colab-badge.svg\" alt=\"Open In Colab\"/></a>"
      ]
    },
    {
      "cell_type": "markdown",
      "source": [
        "# Project Name : **Health Insurance Customers CrossSell Prediction (Classification)**"
      ],
      "metadata": {
        "id": "LvbK3zeo_Hfl"
      }
    },
    {
      "cell_type": "markdown",
      "source": [
        "# Problem Statement"
      ],
      "metadata": {
        "id": "ZUCieKWVAAPd"
      }
    },
    {
      "cell_type": "markdown",
      "source": [
        "Our client, a leading Insurance provider, is looking to strategically broaden its portfolio by introducing Vehicle Insurance to its existing Health Insurance customer base. A key business challenge lies in identifying which policyholders are most likely to engage with this new product. Addressing this challenge requires a predictive, data-driven approach that can accurately forecast customer interest and guide targeted marketing efforts.\n",
        "\n",
        "The project focuses on developing a machine learning model designed to estimate the probability of customers purchasing Vehicle Insurance. This model will leverage a wide range of variables, including demographic details (age, gender, region), vehicle-related factors (vehicle age, damage history), and insights from their current health insurance policies (premium size, distribution channels, and policy details). By uncovering hidden patterns within these attributes, the model aims to highlight customers with the highest conversion potential."
      ],
      "metadata": {
        "id": "boFHBBoGAH8T"
      }
    },
    {
      "cell_type": "markdown",
      "source": [
        "# Project Summary"
      ],
      "metadata": {
        "id": "8pdMgbN1Atdl"
      }
    },
    {
      "cell_type": "markdown",
      "source": [
        "A structured process is followed:\n",
        "\n",
        "* Exploratory Data Analysis (EDA): To extract meaningful insights about customer behavior and product engagement.\n",
        "\n",
        "* Feature Engineering: To enhance and refine data for optimal predictive power.\n",
        "\n",
        "* Model Development & Validation: To build a reliable predictive analytics solution for business use.\n",
        "\n",
        "Upon deployment, the solution is expected to optimize marketing efficiency, enabling the client to reach the right customers with the right offer at the right time. This not only reduces acquisition costs but also enhances customer experience and contributes to higher revenue growth through improved conversion rates.\n",
        "\n",
        "Ultimately, this project delivers a scalable, data-driven decision-support system that empowers the insurance company to make informed, targeted, and impactful marketing decisions for its Vehicle Insurance expansion strategy."
      ],
      "metadata": {
        "id": "GXeWqNjDAv7V"
      }
    },
    {
      "cell_type": "markdown",
      "source": [
        "# Dataset Features/Columns Description"
      ],
      "metadata": {
        "id": "dJyZok2ZA5Gm"
      }
    },
    {
      "cell_type": "markdown",
      "source": [
        "**id:** Identifier for each customer.\n",
        "\n",
        "**Gender:** Gender of the policyholder.\n",
        "\n",
        "**Age:** Age of the policyholder.\n",
        "\n",
        "**Driving_License:** Indicates whether the policyholder has a driving license (1 for yes, 0 for no).\n",
        "\n",
        "**Region_Code:** Coded representation of the region of the policyholder.\n",
        "\n",
        "**Previously_Insured:** Indicates whether the policyholder already has vehicle insurance (1 for yes, 0 for no).\n",
        "\n",
        "**Vehicle_Age:** Age of the vehicle.\n",
        "\n",
        "**Vehicle_Damage:** Indicates whether the vehicle was previously damaged (Yes or No).\n",
        "\n",
        "**Annual_Premium:** The amount of premium paid annually by the policyholder.\n",
        "\n",
        "**Policy_Sales_Channel:** Code for the channel of outreach to the policyholder.\n",
        "\n",
        "**Vintage:** Number of days the policyholder has been associated with the company.\n",
        "\n",
        "**Response:** Target variable indicating whether the policyholder is interested in vehicle insurance (1 for interested, 0 for not interested)."
      ],
      "metadata": {
        "id": "aUt8F-1hA5et"
      }
    },
    {
      "cell_type": "markdown",
      "source": [
        "# Importing Data"
      ],
      "metadata": {
        "id": "AwLO6p5BBeaO"
      }
    },
    {
      "cell_type": "code",
      "execution_count": 12,
      "metadata": {
        "id": "ALNT_Bki3MlV"
      },
      "outputs": [],
      "source": [
        "# Importing the necessary libraries\n",
        "\n",
        "import pandas as pd\n",
        "import numpy as np\n",
        "import matplotlib.pyplot as plt\n",
        "import seaborn as sns"
      ]
    },
    {
      "cell_type": "code",
      "source": [
        "# Importing the Dataset via my Github Repository\n",
        "\n",
        "data = pd.read_csv('https://raw.githubusercontent.com/Ash99-commits/ML_Health_Insurance_Customers_CrossSell_Prediction/main/Health_Insurance_Customers_Dataset.csv')"
      ],
      "metadata": {
        "id": "xK7w10aLBqpP"
      },
      "execution_count": 2,
      "outputs": []
    },
    {
      "cell_type": "code",
      "source": [
        "# Peeking onto the dataset\n",
        "\n",
        "data.head()"
      ],
      "metadata": {
        "colab": {
          "base_uri": "https://localhost:8080/",
          "height": 206
        },
        "id": "kwl2717sC8oV",
        "outputId": "1455422c-a2c8-419c-a340-311674cd1008"
      },
      "execution_count": 3,
      "outputs": [
        {
          "output_type": "execute_result",
          "data": {
            "text/plain": [
              "   id  Gender  Age  Driving_License  Region_Code  Previously_Insured  \\\n",
              "0   1    Male   44                1         28.0                   0   \n",
              "1   2    Male   76                1          3.0                   0   \n",
              "2   3    Male   47                1         28.0                   0   \n",
              "3   4    Male   21                1         11.0                   1   \n",
              "4   5  Female   29                1         41.0                   1   \n",
              "\n",
              "  Vehicle_Age Vehicle_Damage  Annual_Premium  Policy_Sales_Channel  Vintage  \\\n",
              "0   > 2 Years            Yes         40454.0                  26.0      217   \n",
              "1    1-2 Year             No         33536.0                  26.0      183   \n",
              "2   > 2 Years            Yes         38294.0                  26.0       27   \n",
              "3    < 1 Year             No         28619.0                 152.0      203   \n",
              "4    < 1 Year             No         27496.0                 152.0       39   \n",
              "\n",
              "   Response  \n",
              "0         1  \n",
              "1         0  \n",
              "2         1  \n",
              "3         0  \n",
              "4         0  "
            ],
            "text/html": [
              "\n",
              "  <div id=\"df-9aa05d20-35a7-42e1-94a3-2eb31b1f322a\" class=\"colab-df-container\">\n",
              "    <div>\n",
              "<style scoped>\n",
              "    .dataframe tbody tr th:only-of-type {\n",
              "        vertical-align: middle;\n",
              "    }\n",
              "\n",
              "    .dataframe tbody tr th {\n",
              "        vertical-align: top;\n",
              "    }\n",
              "\n",
              "    .dataframe thead th {\n",
              "        text-align: right;\n",
              "    }\n",
              "</style>\n",
              "<table border=\"1\" class=\"dataframe\">\n",
              "  <thead>\n",
              "    <tr style=\"text-align: right;\">\n",
              "      <th></th>\n",
              "      <th>id</th>\n",
              "      <th>Gender</th>\n",
              "      <th>Age</th>\n",
              "      <th>Driving_License</th>\n",
              "      <th>Region_Code</th>\n",
              "      <th>Previously_Insured</th>\n",
              "      <th>Vehicle_Age</th>\n",
              "      <th>Vehicle_Damage</th>\n",
              "      <th>Annual_Premium</th>\n",
              "      <th>Policy_Sales_Channel</th>\n",
              "      <th>Vintage</th>\n",
              "      <th>Response</th>\n",
              "    </tr>\n",
              "  </thead>\n",
              "  <tbody>\n",
              "    <tr>\n",
              "      <th>0</th>\n",
              "      <td>1</td>\n",
              "      <td>Male</td>\n",
              "      <td>44</td>\n",
              "      <td>1</td>\n",
              "      <td>28.0</td>\n",
              "      <td>0</td>\n",
              "      <td>&gt; 2 Years</td>\n",
              "      <td>Yes</td>\n",
              "      <td>40454.0</td>\n",
              "      <td>26.0</td>\n",
              "      <td>217</td>\n",
              "      <td>1</td>\n",
              "    </tr>\n",
              "    <tr>\n",
              "      <th>1</th>\n",
              "      <td>2</td>\n",
              "      <td>Male</td>\n",
              "      <td>76</td>\n",
              "      <td>1</td>\n",
              "      <td>3.0</td>\n",
              "      <td>0</td>\n",
              "      <td>1-2 Year</td>\n",
              "      <td>No</td>\n",
              "      <td>33536.0</td>\n",
              "      <td>26.0</td>\n",
              "      <td>183</td>\n",
              "      <td>0</td>\n",
              "    </tr>\n",
              "    <tr>\n",
              "      <th>2</th>\n",
              "      <td>3</td>\n",
              "      <td>Male</td>\n",
              "      <td>47</td>\n",
              "      <td>1</td>\n",
              "      <td>28.0</td>\n",
              "      <td>0</td>\n",
              "      <td>&gt; 2 Years</td>\n",
              "      <td>Yes</td>\n",
              "      <td>38294.0</td>\n",
              "      <td>26.0</td>\n",
              "      <td>27</td>\n",
              "      <td>1</td>\n",
              "    </tr>\n",
              "    <tr>\n",
              "      <th>3</th>\n",
              "      <td>4</td>\n",
              "      <td>Male</td>\n",
              "      <td>21</td>\n",
              "      <td>1</td>\n",
              "      <td>11.0</td>\n",
              "      <td>1</td>\n",
              "      <td>&lt; 1 Year</td>\n",
              "      <td>No</td>\n",
              "      <td>28619.0</td>\n",
              "      <td>152.0</td>\n",
              "      <td>203</td>\n",
              "      <td>0</td>\n",
              "    </tr>\n",
              "    <tr>\n",
              "      <th>4</th>\n",
              "      <td>5</td>\n",
              "      <td>Female</td>\n",
              "      <td>29</td>\n",
              "      <td>1</td>\n",
              "      <td>41.0</td>\n",
              "      <td>1</td>\n",
              "      <td>&lt; 1 Year</td>\n",
              "      <td>No</td>\n",
              "      <td>27496.0</td>\n",
              "      <td>152.0</td>\n",
              "      <td>39</td>\n",
              "      <td>0</td>\n",
              "    </tr>\n",
              "  </tbody>\n",
              "</table>\n",
              "</div>\n",
              "    <div class=\"colab-df-buttons\">\n",
              "\n",
              "  <div class=\"colab-df-container\">\n",
              "    <button class=\"colab-df-convert\" onclick=\"convertToInteractive('df-9aa05d20-35a7-42e1-94a3-2eb31b1f322a')\"\n",
              "            title=\"Convert this dataframe to an interactive table.\"\n",
              "            style=\"display:none;\">\n",
              "\n",
              "  <svg xmlns=\"http://www.w3.org/2000/svg\" height=\"24px\" viewBox=\"0 -960 960 960\">\n",
              "    <path d=\"M120-120v-720h720v720H120Zm60-500h600v-160H180v160Zm220 220h160v-160H400v160Zm0 220h160v-160H400v160ZM180-400h160v-160H180v160Zm440 0h160v-160H620v160ZM180-180h160v-160H180v160Zm440 0h160v-160H620v160Z\"/>\n",
              "  </svg>\n",
              "    </button>\n",
              "\n",
              "  <style>\n",
              "    .colab-df-container {\n",
              "      display:flex;\n",
              "      gap: 12px;\n",
              "    }\n",
              "\n",
              "    .colab-df-convert {\n",
              "      background-color: #E8F0FE;\n",
              "      border: none;\n",
              "      border-radius: 50%;\n",
              "      cursor: pointer;\n",
              "      display: none;\n",
              "      fill: #1967D2;\n",
              "      height: 32px;\n",
              "      padding: 0 0 0 0;\n",
              "      width: 32px;\n",
              "    }\n",
              "\n",
              "    .colab-df-convert:hover {\n",
              "      background-color: #E2EBFA;\n",
              "      box-shadow: 0px 1px 2px rgba(60, 64, 67, 0.3), 0px 1px 3px 1px rgba(60, 64, 67, 0.15);\n",
              "      fill: #174EA6;\n",
              "    }\n",
              "\n",
              "    .colab-df-buttons div {\n",
              "      margin-bottom: 4px;\n",
              "    }\n",
              "\n",
              "    [theme=dark] .colab-df-convert {\n",
              "      background-color: #3B4455;\n",
              "      fill: #D2E3FC;\n",
              "    }\n",
              "\n",
              "    [theme=dark] .colab-df-convert:hover {\n",
              "      background-color: #434B5C;\n",
              "      box-shadow: 0px 1px 3px 1px rgba(0, 0, 0, 0.15);\n",
              "      filter: drop-shadow(0px 1px 2px rgba(0, 0, 0, 0.3));\n",
              "      fill: #FFFFFF;\n",
              "    }\n",
              "  </style>\n",
              "\n",
              "    <script>\n",
              "      const buttonEl =\n",
              "        document.querySelector('#df-9aa05d20-35a7-42e1-94a3-2eb31b1f322a button.colab-df-convert');\n",
              "      buttonEl.style.display =\n",
              "        google.colab.kernel.accessAllowed ? 'block' : 'none';\n",
              "\n",
              "      async function convertToInteractive(key) {\n",
              "        const element = document.querySelector('#df-9aa05d20-35a7-42e1-94a3-2eb31b1f322a');\n",
              "        const dataTable =\n",
              "          await google.colab.kernel.invokeFunction('convertToInteractive',\n",
              "                                                    [key], {});\n",
              "        if (!dataTable) return;\n",
              "\n",
              "        const docLinkHtml = 'Like what you see? Visit the ' +\n",
              "          '<a target=\"_blank\" href=https://colab.research.google.com/notebooks/data_table.ipynb>data table notebook</a>'\n",
              "          + ' to learn more about interactive tables.';\n",
              "        element.innerHTML = '';\n",
              "        dataTable['output_type'] = 'display_data';\n",
              "        await google.colab.output.renderOutput(dataTable, element);\n",
              "        const docLink = document.createElement('div');\n",
              "        docLink.innerHTML = docLinkHtml;\n",
              "        element.appendChild(docLink);\n",
              "      }\n",
              "    </script>\n",
              "  </div>\n",
              "\n",
              "\n",
              "    <div id=\"df-e85c830a-cfb0-45c4-9cb1-d9cea33828ac\">\n",
              "      <button class=\"colab-df-quickchart\" onclick=\"quickchart('df-e85c830a-cfb0-45c4-9cb1-d9cea33828ac')\"\n",
              "                title=\"Suggest charts\"\n",
              "                style=\"display:none;\">\n",
              "\n",
              "<svg xmlns=\"http://www.w3.org/2000/svg\" height=\"24px\"viewBox=\"0 0 24 24\"\n",
              "     width=\"24px\">\n",
              "    <g>\n",
              "        <path d=\"M19 3H5c-1.1 0-2 .9-2 2v14c0 1.1.9 2 2 2h14c1.1 0 2-.9 2-2V5c0-1.1-.9-2-2-2zM9 17H7v-7h2v7zm4 0h-2V7h2v10zm4 0h-2v-4h2v4z\"/>\n",
              "    </g>\n",
              "</svg>\n",
              "      </button>\n",
              "\n",
              "<style>\n",
              "  .colab-df-quickchart {\n",
              "      --bg-color: #E8F0FE;\n",
              "      --fill-color: #1967D2;\n",
              "      --hover-bg-color: #E2EBFA;\n",
              "      --hover-fill-color: #174EA6;\n",
              "      --disabled-fill-color: #AAA;\n",
              "      --disabled-bg-color: #DDD;\n",
              "  }\n",
              "\n",
              "  [theme=dark] .colab-df-quickchart {\n",
              "      --bg-color: #3B4455;\n",
              "      --fill-color: #D2E3FC;\n",
              "      --hover-bg-color: #434B5C;\n",
              "      --hover-fill-color: #FFFFFF;\n",
              "      --disabled-bg-color: #3B4455;\n",
              "      --disabled-fill-color: #666;\n",
              "  }\n",
              "\n",
              "  .colab-df-quickchart {\n",
              "    background-color: var(--bg-color);\n",
              "    border: none;\n",
              "    border-radius: 50%;\n",
              "    cursor: pointer;\n",
              "    display: none;\n",
              "    fill: var(--fill-color);\n",
              "    height: 32px;\n",
              "    padding: 0;\n",
              "    width: 32px;\n",
              "  }\n",
              "\n",
              "  .colab-df-quickchart:hover {\n",
              "    background-color: var(--hover-bg-color);\n",
              "    box-shadow: 0 1px 2px rgba(60, 64, 67, 0.3), 0 1px 3px 1px rgba(60, 64, 67, 0.15);\n",
              "    fill: var(--button-hover-fill-color);\n",
              "  }\n",
              "\n",
              "  .colab-df-quickchart-complete:disabled,\n",
              "  .colab-df-quickchart-complete:disabled:hover {\n",
              "    background-color: var(--disabled-bg-color);\n",
              "    fill: var(--disabled-fill-color);\n",
              "    box-shadow: none;\n",
              "  }\n",
              "\n",
              "  .colab-df-spinner {\n",
              "    border: 2px solid var(--fill-color);\n",
              "    border-color: transparent;\n",
              "    border-bottom-color: var(--fill-color);\n",
              "    animation:\n",
              "      spin 1s steps(1) infinite;\n",
              "  }\n",
              "\n",
              "  @keyframes spin {\n",
              "    0% {\n",
              "      border-color: transparent;\n",
              "      border-bottom-color: var(--fill-color);\n",
              "      border-left-color: var(--fill-color);\n",
              "    }\n",
              "    20% {\n",
              "      border-color: transparent;\n",
              "      border-left-color: var(--fill-color);\n",
              "      border-top-color: var(--fill-color);\n",
              "    }\n",
              "    30% {\n",
              "      border-color: transparent;\n",
              "      border-left-color: var(--fill-color);\n",
              "      border-top-color: var(--fill-color);\n",
              "      border-right-color: var(--fill-color);\n",
              "    }\n",
              "    40% {\n",
              "      border-color: transparent;\n",
              "      border-right-color: var(--fill-color);\n",
              "      border-top-color: var(--fill-color);\n",
              "    }\n",
              "    60% {\n",
              "      border-color: transparent;\n",
              "      border-right-color: var(--fill-color);\n",
              "    }\n",
              "    80% {\n",
              "      border-color: transparent;\n",
              "      border-right-color: var(--fill-color);\n",
              "      border-bottom-color: var(--fill-color);\n",
              "    }\n",
              "    90% {\n",
              "      border-color: transparent;\n",
              "      border-bottom-color: var(--fill-color);\n",
              "    }\n",
              "  }\n",
              "</style>\n",
              "\n",
              "      <script>\n",
              "        async function quickchart(key) {\n",
              "          const quickchartButtonEl =\n",
              "            document.querySelector('#' + key + ' button');\n",
              "          quickchartButtonEl.disabled = true;  // To prevent multiple clicks.\n",
              "          quickchartButtonEl.classList.add('colab-df-spinner');\n",
              "          try {\n",
              "            const charts = await google.colab.kernel.invokeFunction(\n",
              "                'suggestCharts', [key], {});\n",
              "          } catch (error) {\n",
              "            console.error('Error during call to suggestCharts:', error);\n",
              "          }\n",
              "          quickchartButtonEl.classList.remove('colab-df-spinner');\n",
              "          quickchartButtonEl.classList.add('colab-df-quickchart-complete');\n",
              "        }\n",
              "        (() => {\n",
              "          let quickchartButtonEl =\n",
              "            document.querySelector('#df-e85c830a-cfb0-45c4-9cb1-d9cea33828ac button');\n",
              "          quickchartButtonEl.style.display =\n",
              "            google.colab.kernel.accessAllowed ? 'block' : 'none';\n",
              "        })();\n",
              "      </script>\n",
              "    </div>\n",
              "\n",
              "    </div>\n",
              "  </div>\n"
            ],
            "application/vnd.google.colaboratory.intrinsic+json": {
              "type": "dataframe",
              "variable_name": "data"
            }
          },
          "metadata": {},
          "execution_count": 3
        }
      ]
    },
    {
      "cell_type": "code",
      "source": [
        "# Checking the number of rows and columns in the dataset\n",
        "\n",
        "data.shape\n",
        "print('Number of rows in dataset is',data.shape[0])\n",
        "print('Number of columns in dataset is',data.shape[1])"
      ],
      "metadata": {
        "id": "Oe_QMKYuDAb1",
        "colab": {
          "base_uri": "https://localhost:8080/"
        },
        "outputId": "27a71e13-2b6a-4635-c248-c9a44f95175e"
      },
      "execution_count": 4,
      "outputs": [
        {
          "output_type": "stream",
          "name": "stdout",
          "text": [
            "Number of rows in dataset is 381109\n",
            "Number of columns in dataset is 12\n"
          ]
        }
      ]
    },
    {
      "cell_type": "markdown",
      "source": [
        "# Preparing Data before Analysis"
      ],
      "metadata": {
        "id": "J94cXS5sO6RB"
      }
    },
    {
      "cell_type": "markdown",
      "source": [
        "## Checking for Duplicates"
      ],
      "metadata": {
        "id": "z9Xyh5SrRWfJ"
      }
    },
    {
      "cell_type": "code",
      "source": [
        "# Checking for the duplicated values\n",
        "\n",
        "data.duplicated().sum()"
      ],
      "metadata": {
        "colab": {
          "base_uri": "https://localhost:8080/"
        },
        "id": "H1qq11btBj13",
        "outputId": "019893c1-c116-4ac6-b2ec-d7628e4800ff"
      },
      "execution_count": 5,
      "outputs": [
        {
          "output_type": "execute_result",
          "data": {
            "text/plain": [
              "np.int64(0)"
            ]
          },
          "metadata": {},
          "execution_count": 5
        }
      ]
    },
    {
      "cell_type": "markdown",
      "source": [
        "👉 There are no duplicated values in the dataset."
      ],
      "metadata": {
        "id": "qCw1rV4OBsIO"
      }
    },
    {
      "cell_type": "markdown",
      "source": [
        "## Checking for other informations like Null/Missing values & Column datatypes"
      ],
      "metadata": {
        "id": "0GBSviznRd0x"
      }
    },
    {
      "cell_type": "code",
      "source": [
        "# Checking out the dataset informations for the datatypes of the columns and missing/null values.\n",
        "\n",
        "data.info()"
      ],
      "metadata": {
        "colab": {
          "base_uri": "https://localhost:8080/"
        },
        "id": "Qm-77yQ1_nSg",
        "outputId": "26e8d9f1-af2d-4a1d-c48d-edc5522746fa"
      },
      "execution_count": 6,
      "outputs": [
        {
          "output_type": "stream",
          "name": "stdout",
          "text": [
            "<class 'pandas.core.frame.DataFrame'>\n",
            "RangeIndex: 381109 entries, 0 to 381108\n",
            "Data columns (total 12 columns):\n",
            " #   Column                Non-Null Count   Dtype  \n",
            "---  ------                --------------   -----  \n",
            " 0   id                    381109 non-null  int64  \n",
            " 1   Gender                381109 non-null  object \n",
            " 2   Age                   381109 non-null  int64  \n",
            " 3   Driving_License       381109 non-null  int64  \n",
            " 4   Region_Code           381109 non-null  float64\n",
            " 5   Previously_Insured    381109 non-null  int64  \n",
            " 6   Vehicle_Age           381109 non-null  object \n",
            " 7   Vehicle_Damage        381109 non-null  object \n",
            " 8   Annual_Premium        381109 non-null  float64\n",
            " 9   Policy_Sales_Channel  381109 non-null  float64\n",
            " 10  Vintage               381109 non-null  int64  \n",
            " 11  Response              381109 non-null  int64  \n",
            "dtypes: float64(3), int64(6), object(3)\n",
            "memory usage: 34.9+ MB\n"
          ]
        }
      ]
    },
    {
      "cell_type": "markdown",
      "source": [
        "👉 All the datatypes in the columns are consistent for the kind of data they hold, no changes necessary.\n",
        "\n",
        "👉 It also seems from here that there are no null/missing values in the dataset.\n",
        "Still will be checking out below for confirmation."
      ],
      "metadata": {
        "id": "jnbTH4WU_94v"
      }
    },
    {
      "cell_type": "markdown",
      "source": [
        "# Double checking for Null/Missing Values"
      ],
      "metadata": {
        "id": "-DTcJ2DiRtzB"
      }
    },
    {
      "cell_type": "code",
      "source": [
        "# Confirming that there are no null/missing values in the dataset\n",
        "\n",
        "data.isnull().sum()"
      ],
      "metadata": {
        "colab": {
          "base_uri": "https://localhost:8080/",
          "height": 460
        },
        "id": "SSqMfolS_6jO",
        "outputId": "956a64f3-a136-46c4-b311-f65ee9aa07e6"
      },
      "execution_count": 7,
      "outputs": [
        {
          "output_type": "execute_result",
          "data": {
            "text/plain": [
              "id                      0\n",
              "Gender                  0\n",
              "Age                     0\n",
              "Driving_License         0\n",
              "Region_Code             0\n",
              "Previously_Insured      0\n",
              "Vehicle_Age             0\n",
              "Vehicle_Damage          0\n",
              "Annual_Premium          0\n",
              "Policy_Sales_Channel    0\n",
              "Vintage                 0\n",
              "Response                0\n",
              "dtype: int64"
            ],
            "text/html": [
              "<div>\n",
              "<style scoped>\n",
              "    .dataframe tbody tr th:only-of-type {\n",
              "        vertical-align: middle;\n",
              "    }\n",
              "\n",
              "    .dataframe tbody tr th {\n",
              "        vertical-align: top;\n",
              "    }\n",
              "\n",
              "    .dataframe thead th {\n",
              "        text-align: right;\n",
              "    }\n",
              "</style>\n",
              "<table border=\"1\" class=\"dataframe\">\n",
              "  <thead>\n",
              "    <tr style=\"text-align: right;\">\n",
              "      <th></th>\n",
              "      <th>0</th>\n",
              "    </tr>\n",
              "  </thead>\n",
              "  <tbody>\n",
              "    <tr>\n",
              "      <th>id</th>\n",
              "      <td>0</td>\n",
              "    </tr>\n",
              "    <tr>\n",
              "      <th>Gender</th>\n",
              "      <td>0</td>\n",
              "    </tr>\n",
              "    <tr>\n",
              "      <th>Age</th>\n",
              "      <td>0</td>\n",
              "    </tr>\n",
              "    <tr>\n",
              "      <th>Driving_License</th>\n",
              "      <td>0</td>\n",
              "    </tr>\n",
              "    <tr>\n",
              "      <th>Region_Code</th>\n",
              "      <td>0</td>\n",
              "    </tr>\n",
              "    <tr>\n",
              "      <th>Previously_Insured</th>\n",
              "      <td>0</td>\n",
              "    </tr>\n",
              "    <tr>\n",
              "      <th>Vehicle_Age</th>\n",
              "      <td>0</td>\n",
              "    </tr>\n",
              "    <tr>\n",
              "      <th>Vehicle_Damage</th>\n",
              "      <td>0</td>\n",
              "    </tr>\n",
              "    <tr>\n",
              "      <th>Annual_Premium</th>\n",
              "      <td>0</td>\n",
              "    </tr>\n",
              "    <tr>\n",
              "      <th>Policy_Sales_Channel</th>\n",
              "      <td>0</td>\n",
              "    </tr>\n",
              "    <tr>\n",
              "      <th>Vintage</th>\n",
              "      <td>0</td>\n",
              "    </tr>\n",
              "    <tr>\n",
              "      <th>Response</th>\n",
              "      <td>0</td>\n",
              "    </tr>\n",
              "  </tbody>\n",
              "</table>\n",
              "</div><br><label><b>dtype:</b> int64</label>"
            ]
          },
          "metadata": {},
          "execution_count": 7
        }
      ]
    },
    {
      "cell_type": "markdown",
      "source": [
        "👉 Hence confirmed that there are no null/missing values in the dataset."
      ],
      "metadata": {
        "id": "7P6JiMo1CPnv"
      }
    },
    {
      "cell_type": "markdown",
      "source": [
        "👉 With the data quality check complete and no immediate issues identified, we now proceed to the statistical summary of the dataset part now."
      ],
      "metadata": {
        "id": "W8jNGJR4C4uU"
      }
    },
    {
      "cell_type": "markdown",
      "source": [
        "# Going through the Statistical Summary of the dataset"
      ],
      "metadata": {
        "id": "8gR55ZKLR6mJ"
      }
    },
    {
      "cell_type": "code",
      "source": [
        "data.describe()"
      ],
      "metadata": {
        "colab": {
          "base_uri": "https://localhost:8080/",
          "height": 300
        },
        "id": "-2zHylj9CKoH",
        "outputId": "3131b2a6-2ea4-4494-c830-72c325770354"
      },
      "execution_count": 8,
      "outputs": [
        {
          "output_type": "execute_result",
          "data": {
            "text/plain": [
              "                  id            Age  Driving_License    Region_Code  \\\n",
              "count  381109.000000  381109.000000    381109.000000  381109.000000   \n",
              "mean   190555.000000      38.822584         0.997869      26.388807   \n",
              "std    110016.836208      15.511611         0.046110      13.229888   \n",
              "min         1.000000      20.000000         0.000000       0.000000   \n",
              "25%     95278.000000      25.000000         1.000000      15.000000   \n",
              "50%    190555.000000      36.000000         1.000000      28.000000   \n",
              "75%    285832.000000      49.000000         1.000000      35.000000   \n",
              "max    381109.000000      85.000000         1.000000      52.000000   \n",
              "\n",
              "       Previously_Insured  Annual_Premium  Policy_Sales_Channel  \\\n",
              "count       381109.000000   381109.000000         381109.000000   \n",
              "mean             0.458210    30564.389581            112.034295   \n",
              "std              0.498251    17213.155057             54.203995   \n",
              "min              0.000000     2630.000000              1.000000   \n",
              "25%              0.000000    24405.000000             29.000000   \n",
              "50%              0.000000    31669.000000            133.000000   \n",
              "75%              1.000000    39400.000000            152.000000   \n",
              "max              1.000000   540165.000000            163.000000   \n",
              "\n",
              "             Vintage       Response  \n",
              "count  381109.000000  381109.000000  \n",
              "mean      154.347397       0.122563  \n",
              "std        83.671304       0.327936  \n",
              "min        10.000000       0.000000  \n",
              "25%        82.000000       0.000000  \n",
              "50%       154.000000       0.000000  \n",
              "75%       227.000000       0.000000  \n",
              "max       299.000000       1.000000  "
            ],
            "text/html": [
              "\n",
              "  <div id=\"df-39637df1-43ca-400c-8dd4-a2a3970fe506\" class=\"colab-df-container\">\n",
              "    <div>\n",
              "<style scoped>\n",
              "    .dataframe tbody tr th:only-of-type {\n",
              "        vertical-align: middle;\n",
              "    }\n",
              "\n",
              "    .dataframe tbody tr th {\n",
              "        vertical-align: top;\n",
              "    }\n",
              "\n",
              "    .dataframe thead th {\n",
              "        text-align: right;\n",
              "    }\n",
              "</style>\n",
              "<table border=\"1\" class=\"dataframe\">\n",
              "  <thead>\n",
              "    <tr style=\"text-align: right;\">\n",
              "      <th></th>\n",
              "      <th>id</th>\n",
              "      <th>Age</th>\n",
              "      <th>Driving_License</th>\n",
              "      <th>Region_Code</th>\n",
              "      <th>Previously_Insured</th>\n",
              "      <th>Annual_Premium</th>\n",
              "      <th>Policy_Sales_Channel</th>\n",
              "      <th>Vintage</th>\n",
              "      <th>Response</th>\n",
              "    </tr>\n",
              "  </thead>\n",
              "  <tbody>\n",
              "    <tr>\n",
              "      <th>count</th>\n",
              "      <td>381109.000000</td>\n",
              "      <td>381109.000000</td>\n",
              "      <td>381109.000000</td>\n",
              "      <td>381109.000000</td>\n",
              "      <td>381109.000000</td>\n",
              "      <td>381109.000000</td>\n",
              "      <td>381109.000000</td>\n",
              "      <td>381109.000000</td>\n",
              "      <td>381109.000000</td>\n",
              "    </tr>\n",
              "    <tr>\n",
              "      <th>mean</th>\n",
              "      <td>190555.000000</td>\n",
              "      <td>38.822584</td>\n",
              "      <td>0.997869</td>\n",
              "      <td>26.388807</td>\n",
              "      <td>0.458210</td>\n",
              "      <td>30564.389581</td>\n",
              "      <td>112.034295</td>\n",
              "      <td>154.347397</td>\n",
              "      <td>0.122563</td>\n",
              "    </tr>\n",
              "    <tr>\n",
              "      <th>std</th>\n",
              "      <td>110016.836208</td>\n",
              "      <td>15.511611</td>\n",
              "      <td>0.046110</td>\n",
              "      <td>13.229888</td>\n",
              "      <td>0.498251</td>\n",
              "      <td>17213.155057</td>\n",
              "      <td>54.203995</td>\n",
              "      <td>83.671304</td>\n",
              "      <td>0.327936</td>\n",
              "    </tr>\n",
              "    <tr>\n",
              "      <th>min</th>\n",
              "      <td>1.000000</td>\n",
              "      <td>20.000000</td>\n",
              "      <td>0.000000</td>\n",
              "      <td>0.000000</td>\n",
              "      <td>0.000000</td>\n",
              "      <td>2630.000000</td>\n",
              "      <td>1.000000</td>\n",
              "      <td>10.000000</td>\n",
              "      <td>0.000000</td>\n",
              "    </tr>\n",
              "    <tr>\n",
              "      <th>25%</th>\n",
              "      <td>95278.000000</td>\n",
              "      <td>25.000000</td>\n",
              "      <td>1.000000</td>\n",
              "      <td>15.000000</td>\n",
              "      <td>0.000000</td>\n",
              "      <td>24405.000000</td>\n",
              "      <td>29.000000</td>\n",
              "      <td>82.000000</td>\n",
              "      <td>0.000000</td>\n",
              "    </tr>\n",
              "    <tr>\n",
              "      <th>50%</th>\n",
              "      <td>190555.000000</td>\n",
              "      <td>36.000000</td>\n",
              "      <td>1.000000</td>\n",
              "      <td>28.000000</td>\n",
              "      <td>0.000000</td>\n",
              "      <td>31669.000000</td>\n",
              "      <td>133.000000</td>\n",
              "      <td>154.000000</td>\n",
              "      <td>0.000000</td>\n",
              "    </tr>\n",
              "    <tr>\n",
              "      <th>75%</th>\n",
              "      <td>285832.000000</td>\n",
              "      <td>49.000000</td>\n",
              "      <td>1.000000</td>\n",
              "      <td>35.000000</td>\n",
              "      <td>1.000000</td>\n",
              "      <td>39400.000000</td>\n",
              "      <td>152.000000</td>\n",
              "      <td>227.000000</td>\n",
              "      <td>0.000000</td>\n",
              "    </tr>\n",
              "    <tr>\n",
              "      <th>max</th>\n",
              "      <td>381109.000000</td>\n",
              "      <td>85.000000</td>\n",
              "      <td>1.000000</td>\n",
              "      <td>52.000000</td>\n",
              "      <td>1.000000</td>\n",
              "      <td>540165.000000</td>\n",
              "      <td>163.000000</td>\n",
              "      <td>299.000000</td>\n",
              "      <td>1.000000</td>\n",
              "    </tr>\n",
              "  </tbody>\n",
              "</table>\n",
              "</div>\n",
              "    <div class=\"colab-df-buttons\">\n",
              "\n",
              "  <div class=\"colab-df-container\">\n",
              "    <button class=\"colab-df-convert\" onclick=\"convertToInteractive('df-39637df1-43ca-400c-8dd4-a2a3970fe506')\"\n",
              "            title=\"Convert this dataframe to an interactive table.\"\n",
              "            style=\"display:none;\">\n",
              "\n",
              "  <svg xmlns=\"http://www.w3.org/2000/svg\" height=\"24px\" viewBox=\"0 -960 960 960\">\n",
              "    <path d=\"M120-120v-720h720v720H120Zm60-500h600v-160H180v160Zm220 220h160v-160H400v160Zm0 220h160v-160H400v160ZM180-400h160v-160H180v160Zm440 0h160v-160H620v160ZM180-180h160v-160H180v160Zm440 0h160v-160H620v160Z\"/>\n",
              "  </svg>\n",
              "    </button>\n",
              "\n",
              "  <style>\n",
              "    .colab-df-container {\n",
              "      display:flex;\n",
              "      gap: 12px;\n",
              "    }\n",
              "\n",
              "    .colab-df-convert {\n",
              "      background-color: #E8F0FE;\n",
              "      border: none;\n",
              "      border-radius: 50%;\n",
              "      cursor: pointer;\n",
              "      display: none;\n",
              "      fill: #1967D2;\n",
              "      height: 32px;\n",
              "      padding: 0 0 0 0;\n",
              "      width: 32px;\n",
              "    }\n",
              "\n",
              "    .colab-df-convert:hover {\n",
              "      background-color: #E2EBFA;\n",
              "      box-shadow: 0px 1px 2px rgba(60, 64, 67, 0.3), 0px 1px 3px 1px rgba(60, 64, 67, 0.15);\n",
              "      fill: #174EA6;\n",
              "    }\n",
              "\n",
              "    .colab-df-buttons div {\n",
              "      margin-bottom: 4px;\n",
              "    }\n",
              "\n",
              "    [theme=dark] .colab-df-convert {\n",
              "      background-color: #3B4455;\n",
              "      fill: #D2E3FC;\n",
              "    }\n",
              "\n",
              "    [theme=dark] .colab-df-convert:hover {\n",
              "      background-color: #434B5C;\n",
              "      box-shadow: 0px 1px 3px 1px rgba(0, 0, 0, 0.15);\n",
              "      filter: drop-shadow(0px 1px 2px rgba(0, 0, 0, 0.3));\n",
              "      fill: #FFFFFF;\n",
              "    }\n",
              "  </style>\n",
              "\n",
              "    <script>\n",
              "      const buttonEl =\n",
              "        document.querySelector('#df-39637df1-43ca-400c-8dd4-a2a3970fe506 button.colab-df-convert');\n",
              "      buttonEl.style.display =\n",
              "        google.colab.kernel.accessAllowed ? 'block' : 'none';\n",
              "\n",
              "      async function convertToInteractive(key) {\n",
              "        const element = document.querySelector('#df-39637df1-43ca-400c-8dd4-a2a3970fe506');\n",
              "        const dataTable =\n",
              "          await google.colab.kernel.invokeFunction('convertToInteractive',\n",
              "                                                    [key], {});\n",
              "        if (!dataTable) return;\n",
              "\n",
              "        const docLinkHtml = 'Like what you see? Visit the ' +\n",
              "          '<a target=\"_blank\" href=https://colab.research.google.com/notebooks/data_table.ipynb>data table notebook</a>'\n",
              "          + ' to learn more about interactive tables.';\n",
              "        element.innerHTML = '';\n",
              "        dataTable['output_type'] = 'display_data';\n",
              "        await google.colab.output.renderOutput(dataTable, element);\n",
              "        const docLink = document.createElement('div');\n",
              "        docLink.innerHTML = docLinkHtml;\n",
              "        element.appendChild(docLink);\n",
              "      }\n",
              "    </script>\n",
              "  </div>\n",
              "\n",
              "\n",
              "    <div id=\"df-7e22c2fe-2fe6-4153-acbb-462a8ba22d52\">\n",
              "      <button class=\"colab-df-quickchart\" onclick=\"quickchart('df-7e22c2fe-2fe6-4153-acbb-462a8ba22d52')\"\n",
              "                title=\"Suggest charts\"\n",
              "                style=\"display:none;\">\n",
              "\n",
              "<svg xmlns=\"http://www.w3.org/2000/svg\" height=\"24px\"viewBox=\"0 0 24 24\"\n",
              "     width=\"24px\">\n",
              "    <g>\n",
              "        <path d=\"M19 3H5c-1.1 0-2 .9-2 2v14c0 1.1.9 2 2 2h14c1.1 0 2-.9 2-2V5c0-1.1-.9-2-2-2zM9 17H7v-7h2v7zm4 0h-2V7h2v10zm4 0h-2v-4h2v4z\"/>\n",
              "    </g>\n",
              "</svg>\n",
              "      </button>\n",
              "\n",
              "<style>\n",
              "  .colab-df-quickchart {\n",
              "      --bg-color: #E8F0FE;\n",
              "      --fill-color: #1967D2;\n",
              "      --hover-bg-color: #E2EBFA;\n",
              "      --hover-fill-color: #174EA6;\n",
              "      --disabled-fill-color: #AAA;\n",
              "      --disabled-bg-color: #DDD;\n",
              "  }\n",
              "\n",
              "  [theme=dark] .colab-df-quickchart {\n",
              "      --bg-color: #3B4455;\n",
              "      --fill-color: #D2E3FC;\n",
              "      --hover-bg-color: #434B5C;\n",
              "      --hover-fill-color: #FFFFFF;\n",
              "      --disabled-bg-color: #3B4455;\n",
              "      --disabled-fill-color: #666;\n",
              "  }\n",
              "\n",
              "  .colab-df-quickchart {\n",
              "    background-color: var(--bg-color);\n",
              "    border: none;\n",
              "    border-radius: 50%;\n",
              "    cursor: pointer;\n",
              "    display: none;\n",
              "    fill: var(--fill-color);\n",
              "    height: 32px;\n",
              "    padding: 0;\n",
              "    width: 32px;\n",
              "  }\n",
              "\n",
              "  .colab-df-quickchart:hover {\n",
              "    background-color: var(--hover-bg-color);\n",
              "    box-shadow: 0 1px 2px rgba(60, 64, 67, 0.3), 0 1px 3px 1px rgba(60, 64, 67, 0.15);\n",
              "    fill: var(--button-hover-fill-color);\n",
              "  }\n",
              "\n",
              "  .colab-df-quickchart-complete:disabled,\n",
              "  .colab-df-quickchart-complete:disabled:hover {\n",
              "    background-color: var(--disabled-bg-color);\n",
              "    fill: var(--disabled-fill-color);\n",
              "    box-shadow: none;\n",
              "  }\n",
              "\n",
              "  .colab-df-spinner {\n",
              "    border: 2px solid var(--fill-color);\n",
              "    border-color: transparent;\n",
              "    border-bottom-color: var(--fill-color);\n",
              "    animation:\n",
              "      spin 1s steps(1) infinite;\n",
              "  }\n",
              "\n",
              "  @keyframes spin {\n",
              "    0% {\n",
              "      border-color: transparent;\n",
              "      border-bottom-color: var(--fill-color);\n",
              "      border-left-color: var(--fill-color);\n",
              "    }\n",
              "    20% {\n",
              "      border-color: transparent;\n",
              "      border-left-color: var(--fill-color);\n",
              "      border-top-color: var(--fill-color);\n",
              "    }\n",
              "    30% {\n",
              "      border-color: transparent;\n",
              "      border-left-color: var(--fill-color);\n",
              "      border-top-color: var(--fill-color);\n",
              "      border-right-color: var(--fill-color);\n",
              "    }\n",
              "    40% {\n",
              "      border-color: transparent;\n",
              "      border-right-color: var(--fill-color);\n",
              "      border-top-color: var(--fill-color);\n",
              "    }\n",
              "    60% {\n",
              "      border-color: transparent;\n",
              "      border-right-color: var(--fill-color);\n",
              "    }\n",
              "    80% {\n",
              "      border-color: transparent;\n",
              "      border-right-color: var(--fill-color);\n",
              "      border-bottom-color: var(--fill-color);\n",
              "    }\n",
              "    90% {\n",
              "      border-color: transparent;\n",
              "      border-bottom-color: var(--fill-color);\n",
              "    }\n",
              "  }\n",
              "</style>\n",
              "\n",
              "      <script>\n",
              "        async function quickchart(key) {\n",
              "          const quickchartButtonEl =\n",
              "            document.querySelector('#' + key + ' button');\n",
              "          quickchartButtonEl.disabled = true;  // To prevent multiple clicks.\n",
              "          quickchartButtonEl.classList.add('colab-df-spinner');\n",
              "          try {\n",
              "            const charts = await google.colab.kernel.invokeFunction(\n",
              "                'suggestCharts', [key], {});\n",
              "          } catch (error) {\n",
              "            console.error('Error during call to suggestCharts:', error);\n",
              "          }\n",
              "          quickchartButtonEl.classList.remove('colab-df-spinner');\n",
              "          quickchartButtonEl.classList.add('colab-df-quickchart-complete');\n",
              "        }\n",
              "        (() => {\n",
              "          let quickchartButtonEl =\n",
              "            document.querySelector('#df-7e22c2fe-2fe6-4153-acbb-462a8ba22d52 button');\n",
              "          quickchartButtonEl.style.display =\n",
              "            google.colab.kernel.accessAllowed ? 'block' : 'none';\n",
              "        })();\n",
              "      </script>\n",
              "    </div>\n",
              "\n",
              "    </div>\n",
              "  </div>\n"
            ],
            "application/vnd.google.colaboratory.intrinsic+json": {
              "type": "dataframe",
              "summary": "{\n  \"name\": \"data\",\n  \"rows\": 8,\n  \"fields\": [\n    {\n      \"column\": \"id\",\n      \"properties\": {\n        \"dtype\": \"number\",\n        \"std\": 137353.22270178486,\n        \"min\": 1.0,\n        \"max\": 381109.0,\n        \"num_unique_values\": 6,\n        \"samples\": [\n          381109.0,\n          190555.0,\n          285832.0\n        ],\n        \"semantic_type\": \"\",\n        \"description\": \"\"\n      }\n    },\n    {\n      \"column\": \"Age\",\n      \"properties\": {\n        \"dtype\": \"number\",\n        \"std\": 134728.77747092684,\n        \"min\": 15.511611018090681,\n        \"max\": 381109.0,\n        \"num_unique_values\": 8,\n        \"samples\": [\n          38.822583565331705,\n          36.0,\n          381109.0\n        ],\n        \"semantic_type\": \"\",\n        \"description\": \"\"\n      }\n    },\n    {\n      \"column\": \"Driving_License\",\n      \"properties\": {\n        \"dtype\": \"number\",\n        \"std\": 134742.12437692765,\n        \"min\": 0.0,\n        \"max\": 381109.0,\n        \"num_unique_values\": 5,\n        \"samples\": [\n          0.9978693759528114,\n          1.0,\n          0.04610954420800161\n        ],\n        \"semantic_type\": \"\",\n        \"description\": \"\"\n      }\n    },\n    {\n      \"column\": \"Region_Code\",\n      \"properties\": {\n        \"dtype\": \"number\",\n        \"std\": 134733.81299866387,\n        \"min\": 0.0,\n        \"max\": 381109.0,\n        \"num_unique_values\": 8,\n        \"samples\": [\n          26.388807401557035,\n          28.0,\n          381109.0\n        ],\n        \"semantic_type\": \"\",\n        \"description\": \"\"\n      }\n    },\n    {\n      \"column\": \"Previously_Insured\",\n      \"properties\": {\n        \"dtype\": \"number\",\n        \"std\": 134742.22981240705,\n        \"min\": 0.0,\n        \"max\": 381109.0,\n        \"num_unique_values\": 5,\n        \"samples\": [\n          0.4582101183650871,\n          1.0,\n          0.49825119888769953\n        ],\n        \"semantic_type\": \"\",\n        \"description\": \"\"\n      }\n    },\n    {\n      \"column\": \"Annual_Premium\",\n      \"properties\": {\n        \"dtype\": \"number\",\n        \"std\": 206694.37709296285,\n        \"min\": 2630.0,\n        \"max\": 540165.0,\n        \"num_unique_values\": 8,\n        \"samples\": [\n          30564.389581458323,\n          31669.0,\n          381109.0\n        ],\n        \"semantic_type\": \"\",\n        \"description\": \"\"\n      }\n    },\n    {\n      \"column\": \"Policy_Sales_Channel\",\n      \"properties\": {\n        \"dtype\": \"number\",\n        \"std\": 134709.85312711293,\n        \"min\": 1.0,\n        \"max\": 381109.0,\n        \"num_unique_values\": 8,\n        \"samples\": [\n          112.03429465061177,\n          133.0,\n          381109.0\n        ],\n        \"semantic_type\": \"\",\n        \"description\": \"\"\n      }\n    },\n    {\n      \"column\": \"Vintage\",\n      \"properties\": {\n        \"dtype\": \"number\",\n        \"std\": 134691.39548211978,\n        \"min\": 10.0,\n        \"max\": 381109.0,\n        \"num_unique_values\": 8,\n        \"samples\": [\n          154.34739667654136,\n          154.0,\n          381109.0\n        ],\n        \"semantic_type\": \"\",\n        \"description\": \"\"\n      }\n    },\n    {\n      \"column\": \"Response\",\n      \"properties\": {\n        \"dtype\": \"number\",\n        \"std\": 134742.30587477857,\n        \"min\": 0.0,\n        \"max\": 381109.0,\n        \"num_unique_values\": 5,\n        \"samples\": [\n          0.12256336113815208,\n          1.0,\n          0.32793576478649195\n        ],\n        \"semantic_type\": \"\",\n        \"description\": \"\"\n      }\n    }\n  ]\n}"
            }
          },
          "metadata": {},
          "execution_count": 8
        }
      ]
    },
    {
      "cell_type": "markdown",
      "source": [
        "## Observations found"
      ],
      "metadata": {
        "id": "rtMXzk50XjIq"
      }
    },
    {
      "cell_type": "markdown",
      "source": [
        "1. Age :-\n",
        "  * Range: 20 → 85 years (minimum policy age is 20).\n",
        "  * Mean = 38.8 years → average customer is late 30s.\n",
        "  * 25% = 25 years, 50% = 36 years, 75% = 49 years → spread shows a fairly balanced age distribution, skewed slightly younger.\n",
        "  * Std = 15.5 → customers cover a wide age range.\n",
        "2. Driving_License :-\n",
        "  * Almost all have licenses: mean = 0.998 (99.8%).\n",
        "  * Std very small (0.046) → confirms very few customers don’t have a license.\n",
        "3. Region_Code :-\n",
        "  * Range: 0 → 52\n",
        "  * Mean = 26.4, median = 28 → customers spread evenly across regions.\n",
        "  * Std = 13.2 → moderate spread, indicating wide coverage across regions.\n",
        "4. Previously_Insured :-\n",
        "  * Mean = 0.458 → Nearly 46% already had insurance before.\n",
        "  * Balanced dataset, almost half insured, half not.\n",
        "5. Annual_Premium :-\n",
        "  * Range: 2,630 → 540,165 → very skewed distribution (some extreme outliers).\n",
        "  * Mean = 30,564, Median ≈ 31,669 → close, but presence of very high values inflates max.\n",
        "  * 25% = 24,405, 75% = 39,400 → most customer's premiums fall in 24k–39k range.\n",
        "  * Std = 17,213 → wide variation but mainly due to outliers.\n",
        "6. Policy_Sales_Channel :-\n",
        "  * Range: 1 → 163\n",
        "  * Mean = 112, Median = 133 → higher channels slightly more used.\n",
        "7. Vintage :-\n",
        "  * Range: 10 → 299 days\n",
        "  * Mean = 154 days, Median = 154 → very balanced.\n",
        "  * Std = 83.6 → spread is wide; customers vary from very new (around 10 days) to almost a year (around 299 days).\n",
        "8. Response (target variable: 1 = purchased policy) :-\n",
        "  * Mean = 0.123 → only 12.3% customers responded positively.\n",
        "  * Imbalanced dataset (positive class underrepresented).\n",
        "  * Std = 0.328 confirms strong imbalance."
      ],
      "metadata": {
        "id": "9joxQxsYS0jY"
      }
    },
    {
      "cell_type": "markdown",
      "source": [
        "## Key Insights found from the observations :-\n",
        "\n",
        "1. Dataset is large & clean (no missing values).\n",
        "2. Most customers are young to middle-aged (25–49).\n",
        "3. Nearly all customers have driving licenses.\n",
        "4. ~46% already insured, making new policy sales harder.\n",
        "5. Annual_Premium is skewed with outliers, but most values fall in 24k–39k range.\n",
        "6. Vintage is well spread from very new to almost a year old customers.\n",
        "7. Only 12% conversion rate, so model has to deal with class imbalance problem.\n",
        "\n",
        "[A class imbalance problem happens when one class (like “No”) has way more data points than the other class (like “Yes”). In our case nearly 88% customers said No.]"
      ],
      "metadata": {
        "id": "X52mxmPAWCvi"
      }
    },
    {
      "cell_type": "markdown",
      "source": [
        "# Exploratory Data Analysis (EDA)"
      ],
      "metadata": {
        "id": "4SCafzXgXrNq"
      }
    },
    {
      "cell_type": "markdown",
      "source": [
        "## Chart 1 - Age Distribution (Histogram - With KDE curve)"
      ],
      "metadata": {
        "id": "trJ8_LAJYhIz"
      }
    },
    {
      "cell_type": "code",
      "source": [
        "plt.figure(figsize=(10, 6))\n",
        "sns.histplot(data['Age'], kde=True, color=\"skyblue\", bins=30)\n",
        "\n",
        "# Adding Titles and labels\n",
        "plt.title('Distribution of Age')\n",
        "plt.xlabel('Age')\n",
        "plt.ylabel('Frequency')\n",
        "\n",
        "# Adding annotations (mean, median)\n",
        "mean_age = data['Age'].mean()\n",
        "median_age = data['Age'].median()\n",
        "\n",
        "plt.axvline(mean_age, color='red', linestyle='--', label=f'Mean: {mean_age:.1f}')\n",
        "plt.axvline(median_age, color='green', linestyle='--', label=f'Median: {median_age:.1f}')\n",
        "\n",
        "plt.legend()\n",
        "plt.show()"
      ],
      "metadata": {
        "colab": {
          "base_uri": "https://localhost:8080/",
          "height": 564
        },
        "id": "TDok2hLmWuqa",
        "outputId": "e2d12af5-9c70-40c9-9bfe-269a4a4a66e1"
      },
      "execution_count": 9,
      "outputs": [
        {
          "output_type": "display_data",
          "data": {
            "text/plain": [
              "<Figure size 1000x600 with 1 Axes>"
            ],
            "image/png": "[encoded data removed]"
          },
          "metadata": {}
        }
      ]
    },
    {
      "cell_type": "markdown",
      "source": [
        "### Insights Generated :-"
      ],
      "metadata": {
        "id": "cI1WILoJdME0"
      }
    },
    {
      "cell_type": "markdown",
      "source": [
        "1. **Right-skewed distribution**: Most individuals are younger, with frequency declining steadily as age increases.\n",
        "2. **Mean vs. Median**: Mean age (38.8) is higher than median (36.0), confirming the skew and presence of older outliers.\n",
        "3.  **Demographic concentration**: The bulk of the population falls between ages 20–40, indicating a youthful demographic.\n"
      ],
      "metadata": {
        "id": "UnsSHwXCdMqq"
      }
    },
    {
      "cell_type": "markdown",
      "source": [
        "## Chart 2 - Distribution of Annual Premium (Full Dataset) - For Reference"
      ],
      "metadata": {
        "id": "JDbdGq0Nw0Ai"
      }
    },
    {
      "cell_type": "code",
      "source": [
        "# Distribution of Annual Premium (Full Dataset)\n",
        "\n",
        "plt.figure(figsize=(10, 6))\n",
        "sns.histplot(data['Annual_Premium'], bins=100, kde=True, color=\"skyblue\")\n",
        "\n",
        "plt.title('Distribution of Annual Premium (Full Dataset)')\n",
        "plt.xlabel('Annual Premium')\n",
        "plt.ylabel('Frequency')\n",
        "\n",
        "# Mean & median from full dataset\n",
        "mean_premium = data['Annual_Premium'].mean()\n",
        "median_premium = data['Annual_Premium'].median()\n",
        "\n",
        "# Add mean & median lines\n",
        "plt.axvline(mean_premium, color='red', linestyle='--', label=f'Mean: {mean_premium:.0f}')\n",
        "plt.axvline(median_premium, color='green', linestyle='--', label=f'Median: {median_premium:.0f}')\n",
        "\n",
        "plt.legend()\n",
        "plt.show()"
      ],
      "metadata": {
        "colab": {
          "base_uri": "https://localhost:8080/",
          "height": 564
        },
        "id": "qKKBhrNk0Vda",
        "outputId": "e9d968ef-d771-4f73-bdaa-4c6bbd396207"
      },
      "execution_count": 13,
      "outputs": [
        {
          "output_type": "display_data",
          "data": {
            "text/plain": [
              "<Figure size 1000x600 with 1 Axes>"
            ],
            "image/png": "[encoded data removed]"
          },
          "metadata": {}
        }
      ]
    },
    {
      "cell_type": "markdown",
      "source": [
        "❌ Problem: These outliers inflated the mean and compressed the bulk of data into a narrow range, making patterns hard to interpret.\n",
        "\n",
        "✅ Solution: Capping at 100k will help us reduce skew, improve visibility of central trends, and stabilize model training.\n"
      ],
      "metadata": {
        "id": "BPH0D_Jb1Bus"
      }
    },
    {
      "cell_type": "markdown",
      "source": [
        "## Chart 2 - Distribution of Annual Premium (Capped at 100k)"
      ],
      "metadata": {
        "id": "4l3apHCE2yL_"
      }
    },
    {
      "cell_type": "code",
      "source": [
        "# Finding out the distribution of Annual Premium (Capping at 100k)\n",
        "\n",
        "plt.figure(figsize=(10, 6))\n",
        "sns.histplot(\n",
        "    data[data['Annual_Premium'] < 100000]['Annual_Premium'],\n",
        "    bins=50, kde=True, color=\"skyblue\"\n",
        ")\n",
        "\n",
        "plt.title('Distribution of Annual Premium (Capped at 100k)')\n",
        "plt.xlabel('Annual Premium')\n",
        "plt.ylabel('Frequency')\n",
        "\n",
        "# Mean & median from full dataset\n",
        "mean_premium = data['Annual_Premium'].mean()\n",
        "median_premium = data['Annual_Premium'].median()\n",
        "\n",
        "# Plot lines (they may fall outside the visible range if >100k)\n",
        "plt.axvline(mean_premium, color='red', linestyle='--', label=f'Mean (All Data): {mean_premium:.0f}')\n",
        "plt.axvline(median_premium, color='green', linestyle='--', label=f'Median (All Data): {median_premium:.0f}')\n",
        "\n",
        "# Annotating cutoff\n",
        "plt.text(95000, 500, 'Values >100k hidden\\nfor clarity', color='black')\n",
        "\n",
        "plt.legend()\n",
        "plt.show()\n"
      ],
      "metadata": {
        "colab": {
          "base_uri": "https://localhost:8080/",
          "height": 564
        },
        "id": "6bbueJ-aZAaj",
        "outputId": "4dc4ddcf-8889-442a-d726-67955a31d4be"
      },
      "execution_count": 14,
      "outputs": [
        {
          "output_type": "display_data",
          "data": {
            "text/plain": [
              "<Figure size 1000x600 with 1 Axes>"
            ],
            "image/png": "[encoded data removed]"
          },
          "metadata": {}
        }
      ]
    },
    {
      "cell_type": "markdown",
      "source": [
        "### Insights Generated :-"
      ],
      "metadata": {
        "id": "kivS31AS4jWN"
      }
    },
    {
      "cell_type": "markdown",
      "source": [
        "1. **Right skew remains**: Even after capping, the distribution shows a long tail, indicating a small group with relatively high premiums.\n",
        "2. **Potential for log transformation**: The skew suggests applying log or Box-Cox transformation to stabilize variance and improve model performance.\n",
        "3. **Segmentation opportunity**: The dense cluster of low premiums vs. sparse high premiums hints at distinct customer segments worth modeling separately.\n"
      ],
      "metadata": {
        "id": "KhPZiwDP4jOw"
      }
    },
    {
      "cell_type": "markdown",
      "source": [
        "## Chart 3 - Distribution of Vintage - Histogram with KDE Curve"
      ],
      "metadata": {
        "id": "zivftmX746NB"
      }
    },
    {
      "cell_type": "code",
      "source": [
        "plt.figure(figsize=(10, 6))\n",
        "sns.histplot(data['Vintage'], kde=True, color=\"skyblue\")\n",
        "\n",
        "plt.title('Distribution of Vintage')\n",
        "plt.xlabel('Vintage (Days)')\n",
        "plt.ylabel('Frequency')\n",
        "\n",
        "mean_vintage = data['Vintage'].mean() # mean line\n",
        "plt.axvline(mean_vintage, color='red', linestyle='--', label=f'Mean: {mean_vintage:.0f}')\n",
        "plt.legend()\n",
        "\n",
        "plt.show()"
      ],
      "metadata": {
        "id": "RyesnidYjksD",
        "colab": {
          "base_uri": "https://localhost:8080/",
          "height": 564
        },
        "outputId": "99254573-86fa-4639-efb4-62832638c8b0"
      },
      "execution_count": 15,
      "outputs": [
        {
          "output_type": "display_data",
          "data": {
            "text/plain": [
              "<Figure size 1000x600 with 1 Axes>"
            ],
            "image/png": "[encoded data removed]"
          },
          "metadata": {}
        }
      ]
    },
    {
      "cell_type": "markdown",
      "source": [
        "### Insights Generated :-"
      ],
      "metadata": {
        "id": "iDtyfJJ6FK27"
      }
    },
    {
      "cell_type": "markdown",
      "source": [
        "1. **Centered around 154 days**: Most customers have been onboard for ~5 months, suggesting a relatively recent user base.\n",
        "2. **Symmetric distribution**: The shape appears roughly bell-shaped, indicating consistent onboarding over time without major spikes or drop-offs.\n",
        "3. **Useful for cohort segmentation**: Vintage can help segment users into early vs. recent adopters, aiding churn prediction or lifecycle modeling.\n"
      ],
      "metadata": {
        "id": "B2tD1LRmFvcm"
      }
    },
    {
      "cell_type": "markdown",
      "source": [
        "## Chart 4 - Distribution of Response Variable - Countplot"
      ],
      "metadata": {
        "id": "_PEOExGoGZMi"
      }
    },
    {
      "cell_type": "code",
      "source": [
        "plt.figure(figsize=(6, 4))\n",
        "ax = sns.countplot(x='Response', data=data, order=data['Response'].value_counts().index, palette=\"Set2\", hue='Response', legend=False)\n",
        "\n",
        "plt.title('Distribution of Response Variable')\n",
        "plt.xlabel('Response')\n",
        "plt.ylabel('Count')\n",
        "\n",
        "# Adding percentages on bars\n",
        "total = len(data)\n",
        "for p in ax.patches:\n",
        "    percentage = f'{100 * p.get_height()/total:.1f}%'\n",
        "    x = p.get_x() + p.get_width() / 2\n",
        "    y = p.get_height()\n",
        "    ax.annotate(percentage, (x, y), ha='center', va='bottom')\n",
        "\n",
        "plt.show()"
      ],
      "metadata": {
        "colab": {
          "base_uri": "https://localhost:8080/",
          "height": 410
        },
        "id": "usvvTg0yG5kr",
        "outputId": "dcf6e0e6-6818-4eec-f653-66c51ef091d4"
      },
      "execution_count": 18,
      "outputs": [
        {
          "output_type": "display_data",
          "data": {
            "text/plain": [
              "<Figure size 600x400 with 1 Axes>"
            ],
            "image/png": "[encoded data removed]"
          },
          "metadata": {}
        }
      ]
    },
    {
      "cell_type": "markdown",
      "source": [
        "### Insights Generated :-"
      ],
      "metadata": {
        "id": "fdPl4WMwHuPW"
      }
    },
    {
      "cell_type": "markdown",
      "source": [
        "1. **Severe class imbalance**: Class \"0\" dominates at 87.7%, which can bias models toward predicting the majority class.\n",
        "2. **Need for balancing techniques**: We need to apply resampling (SMOTE, undersampling) or class-weight adjustments to improve model sensitivity to minority class \"1\".\n",
        "3. **Evaluation metric shift**: Accuracy alone is misleading here — we need to use precision, recall, F1-score, or AUC to assess model performance effectively\n"
      ],
      "metadata": {
        "id": "t4qYI_fkHxD0"
      }
    },
    {
      "cell_type": "markdown",
      "source": [
        "## Chart 5 - Age VS Response - Boxplot"
      ],
      "metadata": {
        "id": "UB3SYStjH7_2"
      }
    },
    {
      "cell_type": "markdown",
      "source": [
        "**Age and Response:** To see if there's a particular age group that shows more interest in vehicle insurance."
      ],
      "metadata": {
        "id": "ilp0VcZUJfkT"
      }
    },
    {
      "cell_type": "code",
      "source": [
        "plt.figure(figsize=(8, 5))\n",
        "sns.boxplot(x='Response', y='Age', data=data, palette=\"Set2\", hue='Response', legend=False)\n",
        "\n",
        "plt.title('Age vs Response')\n",
        "plt.xlabel('Response (0 = No, 1 = Yes)')\n",
        "plt.ylabel('Age')\n",
        "plt.show()"
      ],
      "metadata": {
        "colab": {
          "base_uri": "https://localhost:8080/",
          "height": 487
        },
        "id": "11iqYI_9Jygn",
        "outputId": "578a6f44-47e2-4832-b53c-0a05324ea5a5"
      },
      "execution_count": 21,
      "outputs": [
        {
          "output_type": "display_data",
          "data": {
            "text/plain": [
              "<Figure size 800x500 with 1 Axes>"
            ],
            "image/png": "[encoded data removed]"
          },
          "metadata": {}
        }
      ]
    },
    {
      "cell_type": "markdown",
      "source": [
        "### Insight Generated :-"
      ],
      "metadata": {
        "id": "wqtcOX4nW91B"
      }
    },
    {
      "cell_type": "markdown",
      "source": [
        "1. **Responders are generally older.**\n",
        "    * Median age of responders (1) ≈ 42 years, compared to ~34 years for non-responders (0).\n",
        "    * This shows older individuals are more likely to show interest in vehicle insurance.\n",
        "2. **Younger customers are less interested.**\n",
        "    * Most non-responders are concentrated in the 20–35 age range.\n",
        "    * Suggests that younger customers are either less concerned about insurance or already covered elsewhere.\n",
        "3. **Wider spread among responders.**\n",
        "    * Responders (1) include a broader range of ages, with some even in 60s–70s showing interest.\n",
        "    * Non-responders skew much younger, with fewer older individuals refusing insurance."
      ],
      "metadata": {
        "id": "kSdsmxMIXDQb"
      }
    }
  ]
}